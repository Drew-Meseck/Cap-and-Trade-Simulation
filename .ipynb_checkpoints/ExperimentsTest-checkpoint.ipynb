{
 "cells": [
  {
   "cell_type": "code",
   "execution_count": 2,
   "metadata": {},
   "outputs": [],
   "source": [
    "from mesa.batchrunner import BatchRunner, BatchRunnerMP\n",
    "import pandas as pd\n",
    "from model import Environment\n",
    "from os import cpu_count\n",
    "\n",
    "from CustomBR import DrewBatchRunner"
   ]
  },
  {
   "cell_type": "markdown",
   "metadata": {},
   "source": [
    "Market Size and Distribution Experiment"
   ]
  },
  {
   "cell_type": "code",
   "execution_count": 3,
   "metadata": {},
   "outputs": [],
   "source": [
    "#Experiment 1 Variables \n",
    "fixed_params = {\n",
    "  \"N\": 25,\n",
    "  \"cap_size\": .35,\n",
    "  \"mSize\":  .5,\n",
    "  \"lobby\": .33,\n",
    "  \"dec\": .005  \n",
    "}\n",
    "variable_params = {\n",
    "    \"am\": [False, True]\n",
    "}\n"
   ]
  },
  {
   "cell_type": "code",
   "execution_count": 4,
   "metadata": {},
   "outputs": [
    {
     "ename": "MPSupport",
     "evalue": "BatchRunnerMP depends on pathos, which is either not installed, or the path can not be found. ",
     "output_type": "error",
     "traceback": [
      "\u001b[1;31m---------------------------------------------------------------------------\u001b[0m",
      "\u001b[1;31mMPSupport\u001b[0m                                 Traceback (most recent call last)",
      "\u001b[1;32m<ipython-input-4-ba3f0643cf2b>\u001b[0m in \u001b[0;36m<module>\u001b[1;34m\u001b[0m\n\u001b[0;32m      4\u001b[0m     \u001b[0mfixed_parameters\u001b[0m \u001b[1;33m=\u001b[0m \u001b[0mfixed_params\u001b[0m\u001b[1;33m,\u001b[0m\u001b[1;33m\u001b[0m\u001b[1;33m\u001b[0m\u001b[0m\n\u001b[0;32m      5\u001b[0m     \u001b[0miterations\u001b[0m \u001b[1;33m=\u001b[0m \u001b[1;36m5\u001b[0m\u001b[1;33m,\u001b[0m\u001b[1;33m\u001b[0m\u001b[1;33m\u001b[0m\u001b[0m\n\u001b[1;32m----> 6\u001b[1;33m     max_steps = 200)\n\u001b[0m",
      "\u001b[1;32m~\\AppData\\Roaming\\Python\\Python37\\site-packages\\mesa\\batchrunner.py\u001b[0m in \u001b[0;36m__init__\u001b[1;34m(self, model_cls, nr_processes, **kwargs)\u001b[0m\n\u001b[0;32m    386\u001b[0m         \"\"\"\n\u001b[0;32m    387\u001b[0m         \u001b[1;32mif\u001b[0m \u001b[1;32mnot\u001b[0m \u001b[0mpathos_support\u001b[0m\u001b[1;33m:\u001b[0m\u001b[1;33m\u001b[0m\u001b[1;33m\u001b[0m\u001b[0m\n\u001b[1;32m--> 388\u001b[1;33m             \u001b[1;32mraise\u001b[0m \u001b[0mMPSupport\u001b[0m\u001b[1;33m\u001b[0m\u001b[1;33m\u001b[0m\u001b[0m\n\u001b[0m\u001b[0;32m    389\u001b[0m         \u001b[0msuper\u001b[0m\u001b[1;33m(\u001b[0m\u001b[1;33m)\u001b[0m\u001b[1;33m.\u001b[0m\u001b[0m__init__\u001b[0m\u001b[1;33m(\u001b[0m\u001b[0mmodel_cls\u001b[0m\u001b[1;33m,\u001b[0m \u001b[1;33m**\u001b[0m\u001b[0mkwargs\u001b[0m\u001b[1;33m)\u001b[0m\u001b[1;33m\u001b[0m\u001b[1;33m\u001b[0m\u001b[0m\n\u001b[0;32m    390\u001b[0m         \u001b[0mself\u001b[0m\u001b[1;33m.\u001b[0m\u001b[0mpool\u001b[0m \u001b[1;33m=\u001b[0m \u001b[0mProcessPool\u001b[0m\u001b[1;33m(\u001b[0m\u001b[0mnodes\u001b[0m\u001b[1;33m=\u001b[0m\u001b[0mnr_processes\u001b[0m\u001b[1;33m)\u001b[0m\u001b[1;33m\u001b[0m\u001b[1;33m\u001b[0m\u001b[0m\n",
      "\u001b[1;31mMPSupport\u001b[0m: BatchRunnerMP depends on pathos, which is either not installed, or the path can not be found. "
     ]
    }
   ],
   "source": [
    "experiment1 = BatchRunnerMP(Environment,\n",
    "    nr_processes= None,\n",
    "    variable_parameters = variable_params, \n",
    "    fixed_parameters = fixed_params,\n",
    "    iterations = 5,\n",
    "    max_steps = 200)"
   ]
  },
  {
   "cell_type": "code",
   "execution_count": 13,
   "metadata": {},
   "outputs": [
    {
     "name": "stderr",
     "output_type": "stream",
     "text": [
      "0it [00:00, ?it/s]Total Production Prior to Cap: 1903.9045124497036\n",
      "Emissions Prior to Cap: 739.5618621360213\n",
      "Number of allowances under cap: 480\n",
      "1it [00:12, 12.51s/it]Total Production Prior to Cap: 1697.5974713848786\n",
      "Emissions Prior to Cap: 782.8798988469007\n",
      "Number of allowances under cap: 508\n",
      "2it [00:25, 12.50s/it]Total Production Prior to Cap: 2151.761730625195\n",
      "Emissions Prior to Cap: 911.2521387382908\n",
      "Number of allowances under cap: 592\n",
      "3it [00:37, 12.56s/it]Total Production Prior to Cap: 2153.5409871967677\n",
      "Emissions Prior to Cap: 837.9795283089167\n",
      "Number of allowances under cap: 544\n",
      "4it [00:50, 12.60s/it]Total Production Prior to Cap: 1640.9351903442582\n",
      "Emissions Prior to Cap: 914.935428619894\n",
      "Number of allowances under cap: 594\n",
      "5it [01:02, 12.57s/it]Total Production Prior to Cap: 1858.1762743088118\n",
      "Emissions Prior to Cap: 898.2368670398162\n",
      "Number of allowances under cap: 583\n",
      "6it [01:18, 13.56s/it]Total Production Prior to Cap: 1796.60428044382\n",
      "Emissions Prior to Cap: 773.7389949619484\n",
      "Number of allowances under cap: 502\n",
      "7it [01:34, 14.09s/it]Total Production Prior to Cap: 1991.6950471090724\n",
      "Emissions Prior to Cap: 734.2648047582959\n",
      "Number of allowances under cap: 477\n",
      "8it [01:49, 14.41s/it]Total Production Prior to Cap: 1845.047478191572\n",
      "Emissions Prior to Cap: 850.6797452911582\n",
      "Number of allowances under cap: 552\n",
      "9it [02:04, 14.75s/it]Total Production Prior to Cap: 2056.1590233543766\n",
      "Emissions Prior to Cap: 864.0796917213981\n",
      "Number of allowances under cap: 561\n",
      "10it [02:20, 14.03s/it]\n"
     ]
    }
   ],
   "source": [
    "experiment1.run_all()"
   ]
  },
  {
   "cell_type": "code",
   "execution_count": null,
   "metadata": {},
   "outputs": [],
   "source": []
  }
 ],
 "metadata": {
  "kernelspec": {
   "display_name": "Python 3",
   "language": "python",
   "name": "python3"
  },
  "language_info": {
   "codemirror_mode": {
    "name": "ipython",
    "version": 3
   },
   "file_extension": ".py",
   "mimetype": "text/x-python",
   "name": "python",
   "nbconvert_exporter": "python",
   "pygments_lexer": "ipython3",
   "version": "3.8.6"
  }
 },
 "nbformat": 4,
 "nbformat_minor": 4
}
